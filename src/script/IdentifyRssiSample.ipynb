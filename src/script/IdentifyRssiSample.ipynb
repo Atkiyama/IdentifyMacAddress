{
 "cells": [
  {
   "cell_type": "code",
   "execution_count": 1,
   "metadata": {},
   "outputs": [],
   "source": [
    "#本コードはidentifyRssiの試作品になります\n",
    "import pandas as pd\n",
    "import numpy as np\n",
    "#このあたりはコマンドライン引数からもらう予定\n",
    "capture = pd.read_csv(\"../data/capture/single/move/csv/move0.csv\", sep=\",\")\n",
    "baseAddress = '58:b4:ad:58:e0:0c'\n",
    "testAddress = '52:ae:43:5a:b9:6f'\n",
    "R = 3"
   ]
  },
  {
   "cell_type": "code",
   "execution_count": 2,
   "metadata": {},
   "outputs": [
    {
     "name": "stdout",
     "output_type": "stream",
     "text": [
      "[725.099255, 726.175233]\n",
      "[-81, -79]\n"
     ]
    }
   ],
   "source": [
    "#学習用データ作成\n",
    "#今回は末尾3パケットで回帰する\n",
    "x = []\n",
    "x_train = []\n",
    "y = []\n",
    "y_train = []\n",
    "for line in range(len(capture)):\n",
    "    if capture.address[line] == baseAddress:\n",
    "        x.append(capture.time[line])\n",
    "        y.append(capture.rssi[line])\n",
    "    \n",
    "        \n",
    "for num in range(len(x)):\n",
    "    if x[len(x)-1] - x[num] <= R:\n",
    "        x_train.append(x[num])\n",
    "        y_train.append(y[num])\n",
    "        \n",
    "print(x_train)\n",
    "print(y_train)"
   ]
  },
  {
   "cell_type": "code",
   "execution_count": 3,
   "metadata": {},
   "outputs": [
    {
     "data": {
      "text/plain": [
       "LinearRegression(copy_X=True, fit_intercept=True, n_jobs=1, normalize=False)"
      ]
     },
     "execution_count": 3,
     "metadata": {},
     "output_type": "execute_result"
    }
   ],
   "source": [
    "#モデル生成\n",
    "from sklearn.linear_model import LinearRegression\n",
    "clf = LinearRegression()\n",
    "clf.fit(pd.DataFrame(capture.time),capture.rssi)"
   ]
  },
  {
   "cell_type": "code",
   "execution_count": 4,
   "metadata": {},
   "outputs": [
    {
     "name": "stdout",
     "output_type": "stream",
     "text": [
      "[-85, -84]\n"
     ]
    }
   ],
   "source": [
    "#テストデータ作成\n",
    "#今回は戦闘3パケットでやる\n",
    "x = []\n",
    "y = []\n",
    "x_test = []\n",
    "y_test = []\n",
    "for line in range(len(capture)):\n",
    "    if capture.address[line] == testAddress:\n",
    "        x.append(capture.time[line])\n",
    "        y.append(capture.rssi[line])\n",
    "\n",
    "for num in range(len(x)):\n",
    "    if x[num] - x[0] <= 3:\n",
    "        x_test.append(x[num])\n",
    "        y_test.append(y[num])\n",
    "        \n",
    "print(y_test)"
   ]
  },
  {
   "cell_type": "code",
   "execution_count": 5,
   "metadata": {},
   "outputs": [
    {
     "name": "stdout",
     "output_type": "stream",
     "text": [
      "-77.06662515566624\n"
     ]
    }
   ],
   "source": [
    "print(np.average(clf.predict(pd.DataFrame(capture.time))))"
   ]
  },
  {
   "cell_type": "code",
   "execution_count": 78,
   "metadata": {},
   "outputs": [],
   "source": [
    "f = open('data/result/identifyRssi.txt', 'w')\n",
    "f.write(str(np.average(clf.predict(pd.DataFrame(x_test)))))\n",
    "f.close()"
   ]
  },
  {
   "cell_type": "code",
   "execution_count": null,
   "metadata": {},
   "outputs": [],
   "source": []
  }
 ],
 "metadata": {
  "kernelspec": {
   "display_name": "Python 3",
   "language": "python",
   "name": "python3"
  },
  "language_info": {
   "codemirror_mode": {
    "name": "ipython",
    "version": 3
   },
   "file_extension": ".py",
   "mimetype": "text/x-python",
   "name": "python",
   "nbconvert_exporter": "python",
   "pygments_lexer": "ipython3",
   "version": "3.6.5"
  }
 },
 "nbformat": 4,
 "nbformat_minor": 2
}
