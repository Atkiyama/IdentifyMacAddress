{
 "cells": [
  {
   "cell_type": "code",
   "execution_count": 1,
   "id": "d94a3f6a",
   "metadata": {},
   "outputs": [],
   "source": [
    "#諸々のインポート\n",
    "import pandas as pd\n",
    "import numpy as np\n",
    "from sklearn import ensemble, tree\n",
    "from sklearn.ensemble import RandomForestRegressor\n",
    "from sklearn import svm\n",
    "from sklearn.linear_model import LinearRegression\n",
    "import matplotlib.pyplot as plt"
   ]
  },
  {
   "cell_type": "code",
   "execution_count": null,
   "id": "28efe4a0",
   "metadata": {},
   "outputs": [],
   "source": [
    "x_train=[]\n",
    "y_train=[]\n",
    "for i in range(5):\n",
    "    x_train.append(i)\n",
    "    y_train.append(i)\n",
    "    \n",
    "clf =svm.SVR(kernel='poly',C=10,degree=3,gamma=100)\n",
    "clf.fit(pd.DataFrame(x_train),y_train)\n",
    "x_test=[]\n",
    "x_test.append(6)\n",
    "x_test.append(7)\n",
    "x_test.append(8)\n",
    "x_test.append(9)\n",
    "predict = clf.predict(pd.DataFrame(x_test))\n",
    "print(predict)\n"
   ]
  },
  {
   "cell_type": "code",
   "execution_count": null,
   "id": "4215cb97",
   "metadata": {},
   "outputs": [],
   "source": [
    "plt.scatter(x_train,y_train,s=4)\n",
    "plt.scatter(x_test,predict,s=4)\n",
    "plt.xlabel(\"x\")\n",
    "plt.ylabel(\"y\")\n",
    "plt.xlim(0,10)\n",
    "plt.ylim(0,10)\n",
    "plt.show()"
   ]
  },
  {
   "cell_type": "code",
   "execution_count": null,
   "id": "a1463da2",
   "metadata": {},
   "outputs": [],
   "source": []
  },
  {
   "cell_type": "code",
   "execution_count": null,
   "id": "0a2364ea",
   "metadata": {},
   "outputs": [],
   "source": []
  }
 ],
 "metadata": {
  "kernelspec": {
   "display_name": "Python 3 (ipykernel)",
   "language": "python",
   "name": "python3"
  },
  "language_info": {
   "codemirror_mode": {
    "name": "ipython",
    "version": 3
   },
   "file_extension": ".py",
   "mimetype": "text/x-python",
   "name": "python",
   "nbconvert_exporter": "python",
   "pygments_lexer": "ipython3",
   "version": "3.9.7"
  }
 },
 "nbformat": 4,
 "nbformat_minor": 5
}
