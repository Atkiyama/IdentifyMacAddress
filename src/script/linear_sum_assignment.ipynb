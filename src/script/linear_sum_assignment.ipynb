{
 "cells": [
  {
   "cell_type": "code",
   "execution_count": 1,
   "id": "3c75ae8a",
   "metadata": {},
   "outputs": [],
   "source": [
    "from scipy.optimize import linear_sum_assignment\n",
    "import numpy as np\n",
    "import pandas as pd"
   ]
  },
  {
   "cell_type": "code",
   "execution_count": 2,
   "id": "5865f43d",
   "metadata": {},
   "outputs": [],
   "source": [
    "costTable = pd.read_csv(\"data/address/processed/costTable/svr/\"+\"0_15,6,5\"+\".csv\", sep=\",\",header=None)"
   ]
  },
  {
   "cell_type": "code",
   "execution_count": 3,
   "id": "cc8dfdca",
   "metadata": {},
   "outputs": [],
   "source": [
    "df= pd.read_csv(\"data/address/processed/addressList/addressList0.csv\", sep=\",\",usecols=[1])\n",
    "column=df.address.to_list()\n",
    "row = column"
   ]
  },
  {
   "cell_type": "code",
   "execution_count": 4,
   "id": "b5f4d481",
   "metadata": {},
   "outputs": [
    {
     "name": "stdout",
     "output_type": "stream",
     "text": [
      "[1 2 3 4 0 6 7 8 9 5]\n"
     ]
    }
   ],
   "source": [
    "row_ind, col_ind = linear_sum_assignment(costTable)\n",
    "print(col_ind)"
   ]
  },
  {
   "cell_type": "code",
   "execution_count": 5,
   "id": "9d0aab79",
   "metadata": {},
   "outputs": [],
   "source": [
    "class Address:\n",
    "\n",
    "    \n",
    "    def __init__(self, row, column):\n",
    "        self.row = row\n",
    "        self.column = column\n",
    "        \n",
    "    def getRow(self):\n",
    "        return self.row\n",
    "    \n",
    "    def getColumn(self):\n",
    "        return self.column"
   ]
  },
  {
   "cell_type": "code",
   "execution_count": 6,
   "id": "62b30bb2",
   "metadata": {},
   "outputs": [
    {
     "name": "stdout",
     "output_type": "stream",
     "text": [
      "1\n",
      "2\n",
      "3\n",
      "4\n",
      "0\n",
      "6\n",
      "7\n",
      "8\n",
      "9\n",
      "5\n"
     ]
    }
   ],
   "source": [
    "ansList=[]\n",
    "i=0\n",
    "for assign in col_ind:\n",
    "    print(assign)\n",
    "    ansList.append(Address(i,assign))\n",
    "    i+=1"
   ]
  },
  {
   "cell_type": "code",
   "execution_count": 7,
   "id": "e4665519",
   "metadata": {},
   "outputs": [],
   "source": [
    "f = open(\"data/result/multi/move/svr/0/15,6,5.txt\", 'w')\n",
    "for ans in ansList:\n",
    "        f.write(row[ans.getRow()])\n",
    "        f.write(\"\\r\\n\")\n",
    "        if costTable[ans.getColumn()][ans.getRow()]!=999:\n",
    "            f.write(column[ans.getColumn()])\n",
    "        f.write(\"\\r\\n\")\n",
    "        f.write(\"\\r\\n\")\n",
    "f.close()"
   ]
  },
  {
   "cell_type": "code",
   "execution_count": null,
   "id": "84fd56d4",
   "metadata": {},
   "outputs": [],
   "source": []
  }
 ],
 "metadata": {
  "kernelspec": {
   "display_name": "Python 3 (ipykernel)",
   "language": "python",
   "name": "python3"
  },
  "language_info": {
   "codemirror_mode": {
    "name": "ipython",
    "version": 3
   },
   "file_extension": ".py",
   "mimetype": "text/x-python",
   "name": "python",
   "nbconvert_exporter": "python",
   "pygments_lexer": "ipython3",
   "version": "3.9.7"
  }
 },
 "nbformat": 4,
 "nbformat_minor": 5
}
