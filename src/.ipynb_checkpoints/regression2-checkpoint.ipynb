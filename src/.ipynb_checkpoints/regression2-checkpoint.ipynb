{
 "cells": [
  {
   "cell_type": "code",
   "execution_count": 1,
   "id": "deb25ebf",
   "metadata": {},
   "outputs": [],
   "source": [
    "#諸々のインポート\n",
    "import pandas as pd\n",
    "import numpy as np\n",
    "from sklearn.linear_model import LinearRegression\n",
    "from sklearn import svm\n",
    "from sklearn import ensemble, tree"
   ]
  },
  {
   "cell_type": "code",
   "execution_count": 2,
   "id": "dc962f82",
   "metadata": {},
   "outputs": [],
   "source": [
    "def main():\n",
    "    for i in range (1,101):\n",
    "        addressList = pd.read_csv(\"data/address/delay/addressList/addressList\"+str(i)+\".csv\", sep=\",\",usecols=[1,2,3])\n",
    "        linerRegression(addressList,i)\n",
    "        svr(addressList,i)\n",
    "        bagging(addressList,i)"
   ]
  },
  {
   "cell_type": "code",
   "execution_count": 3,
   "id": "b7c040f9",
   "metadata": {},
   "outputs": [],
   "source": [
    "#線形回帰\n",
    "def linerRegression(addressList,i):\n",
    "    clf = LinearRegression(fit_intercept = True, copy_X = True, n_jobs = -1)\n",
    "    for I in range(1,21):\n",
    "        for line in range(len(addressList)):\n",
    "            regression(addressList,addressList.address[line],addressList.lTime[line],I,clf,\"linerRegression/\",i)"
   ]
  },
  {
   "cell_type": "code",
   "execution_count": 4,
   "id": "e7a13e78",
   "metadata": {},
   "outputs": [],
   "source": [
    "#SVR(SVMを回帰に利用したもの)\n",
    "def svr(addressList,i):\n",
    "    clf = svm.SVR(kernel='rbf')\n",
    "    for I in range(1,21):\n",
    "        for line in range(len(addressList)):\n",
    "             regression(addressList,addressList.address[line],addressList.lTime[line],I,clf,\"svr/\",i)"
   ]
  },
  {
   "cell_type": "code",
   "execution_count": 5,
   "id": "67a84729",
   "metadata": {},
   "outputs": [],
   "source": [
    "#バギング ランダムフォレスト使うやつ　アンサンブル学習\n",
    "def bagging(addressList,i):\n",
    "    clf = ensemble.BaggingRegressor(tree.DecisionTreeRegressor(),n_jobs = -1)\n",
    "    #clf = ensemble.BaggingRegressor(tree.DecisionTreeRegressor(), n_estimators=100, max_samples=0.3)\n",
    "    for I in range(1,21):\n",
    "        for line in range(len(addressList)):\n",
    "            regression(addressList,addressList.address[line],addressList.lTime[line],I,clf,\"bagging/\",i)"
   ]
  },
  {
   "cell_type": "code",
   "execution_count": 6,
   "id": "418300c4",
   "metadata": {},
   "outputs": [],
   "source": [
    "def regression(addressList,address,lTime,I,clf,regression,i):\n",
    "    x_train = []\n",
    "    y_train = []\n",
    "    lAddress = pd.read_csv(\"data/address/delay/lAddress/\"+address+\"_\"+str(i)+\".csv\", sep=\",\")\n",
    "    for line in range(len(lAddress)):\n",
    "        time = lAddress.time[line]\n",
    "        if(lTime-time <= I):\n",
    "            x_train.append(time)\n",
    "            y_train.append(lAddress.rssi[line])\n",
    "    clf.fit(pd.DataFrame(x_train),y_train)\n",
    "    for  tmp_address in range(len(addressList)):\n",
    "        #print(addressList.address[tmp_address])\n",
    "        sub = addressList.fTime[tmp_address] - lTime\n",
    "        if(0<=sub and sub<=6):\n",
    "            x_test = []\n",
    "            fAddress = pd.read_csv(\"data/address/delay/fAddress/\"+addressList.address[tmp_address]+\"_\"+str(i)+\".csv\", sep=\",\")\n",
    "            fTime = addressList.fTime[tmp_address]\n",
    "            for time in fAddress.time:\n",
    "                if(time-fTime>=0):\n",
    "                    x_test.append(time)        \n",
    "    predict = clf.predict(pd.DataFrame(x_test.sort()))\n",
    "    write(address,I,x_test,predict,regression,i)"
   ]
  },
  {
   "cell_type": "code",
   "execution_count": 7,
   "id": "a18ecb5a",
   "metadata": {},
   "outputs": [],
   "source": [
    "def write(address,I,data,predict,regression,i,nextAddress):\n",
    "    f = open(\"data/address/delay/regression/\"+regression+address+\"_\"+nextAddress+\"_\"+str(I)+\"_\"+str(i)+\".csv\", 'w')\n",
    "    for line in range(len(predict)):\n",
    "        if(line != 0):\n",
    "            f.write(\"\\r\\n\")\n",
    "        f.write(str(data[line])+\",\"+str(predict[line]))\n",
    "    f.close()"
   ]
  },
  {
   "cell_type": "code",
   "execution_count": null,
   "id": "2f21dbdd",
   "metadata": {},
   "outputs": [],
   "source": [
    "main()"
   ]
  }
 ],
 "metadata": {
  "kernelspec": {
   "display_name": "Python 3 (ipykernel)",
   "language": "python",
   "name": "python3"
  },
  "language_info": {
   "codemirror_mode": {
    "name": "ipython",
    "version": 3
   },
   "file_extension": ".py",
   "mimetype": "text/x-python",
   "name": "python",
   "nbconvert_exporter": "python",
   "pygments_lexer": "ipython3",
   "version": "3.8.12"
  }
 },
 "nbformat": 4,
 "nbformat_minor": 5
}
