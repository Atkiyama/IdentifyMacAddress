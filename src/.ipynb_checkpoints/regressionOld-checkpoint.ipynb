{
 "cells": [
  {
   "cell_type": "code",
   "execution_count": 1,
   "id": "2875b083",
   "metadata": {},
   "outputs": [],
   "source": [
    "#諸々のインポート\n",
    "import pandas as pd\n",
    "import numpy as np\n",
    "from sklearn.linear_model import LinearRegression\n",
    "from sklearn import svm\n",
    "from sklearn import ensemble, tree"
   ]
  },
  {
   "cell_type": "code",
   "execution_count": 2,
   "id": "5e4d654d",
   "metadata": {},
   "outputs": [],
   "source": [
    "def readAllFPacket():\n",
    "    addressList = pd.read_csv(\"data/address/addressList.csv\", sep=\",\",usecols=[1])\n",
    "    df = pd.read_csv(\"data/address/fAddress/\"+addressList.address[1]+\".csv\", sep=\",\",usecols=[0])\n",
    "    for address in range(1,len(addressList)):\n",
    "        df = pd.read_csv(\"data/address/fAddress/\"+addressList.address[address]+\".csv\", sep=\",\",usecols=[0])\n",
    "        #print(df)\n",
    "    return df"
   ]
  },
  {
   "cell_type": "code",
   "execution_count": 3,
   "id": "6e98a750",
   "metadata": {},
   "outputs": [],
   "source": [
    "def readConvertOriginal():\n",
    "    df = pd.read_csv(\"data/convertOriginal.csv\", sep=\",\",usecols=[1])\n",
    "    return df"
   ]
  },
  {
   "cell_type": "code",
   "execution_count": 4,
   "id": "dcd584c8",
   "metadata": {},
   "outputs": [],
   "source": [
    "#線形回帰\n",
    "def linerRegression():\n",
    "    df = pd.read_csv(\"data/address/addressList.csv\", sep=\",\",usecols=[1,3])\n",
    "    clf = LinearRegression(fit_intercept = True, copy_X = True, n_jobs = -1)\n",
    "    for I in range(1,21):\n",
    "        for line in range(len(df)):\n",
    "            regression(df.address[line],df.lTime[line],I,clf,\"linerRegression/\")"
   ]
  },
  {
   "cell_type": "code",
   "execution_count": 5,
   "id": "645906c3",
   "metadata": {},
   "outputs": [],
   "source": [
    "#SVR(SVMを回帰に利用したもの)\n",
    "def svr():\n",
    "    df = pd.read_csv(\"data/address/addressList.csv\", sep=\",\",usecols=[1,3])\n",
    "    clf = svm.SVR(kernel='rbf')\n",
    "    for I in range(1,21):\n",
    "        for line in range(len(df)):\n",
    "             regression(df.address[line],df.lTime[line],I,clf,\"svr/\")"
   ]
  },
  {
   "cell_type": "code",
   "execution_count": 6,
   "id": "62c159f5",
   "metadata": {},
   "outputs": [],
   "source": [
    "#バギング ランダムフォレスト使うやつ　アンサンブル学習\n",
    "def bagging():\n",
    "    df = pd.read_csv(\"data/address/addressList.csv\", sep=\",\",usecols=[1,3])\n",
    "    clf = ensemble.BaggingRegressor(tree.DecisionTreeRegressor(),n_jobs = -1)\n",
    "    #clf = ensemble.BaggingRegressor(tree.DecisionTreeRegressor(), n_estimators=100, max_samples=0.3)\n",
    "    for I in range(1,21):\n",
    "        for line in range(len(df)):\n",
    "            regression(df.address[line],df.lTime[line],I,clf,\"bagging/\")"
   ]
  },
  {
   "cell_type": "code",
   "execution_count": 7,
   "id": "591c8739",
   "metadata": {},
   "outputs": [],
   "source": [
    "def regression(address,lTime,I,clf,regression):\n",
    "    x_train = []\n",
    "    y_train = []\n",
    "    df = pd.read_csv(\"data/address/lAddress/\"+address+\".csv\", sep=\",\")\n",
    "    for line in range(len(df)):\n",
    "        time = df.time[line]\n",
    "        if(lTime-time <= I):\n",
    "            x_train.append(time)\n",
    "            y_train.append(df.rssi[line])\n",
    "    clf.fit(pd.DataFrame(x_train),y_train)\n",
    "    x_test = []\n",
    "    for i in range(0,(I+7)*1000000):\n",
    "        time = lTime-1+(i/1000000)\n",
    "        if(len(str(time))==7):\n",
    "            #print(time)\n",
    "            x_test.append(time)\n",
    "#     if(len(x_test)==0):\n",
    "#         write0(address,I,regression)\n",
    "#     else:\n",
    "#   print(x_test)\n",
    "    predict = clf.predict(pd.DataFrame(x_test))\n",
    "    write(address,I,x_test,predict,regression)"
   ]
  },
  {
   "cell_type": "code",
   "execution_count": 8,
   "id": "4ec5127e",
   "metadata": {},
   "outputs": [],
   "source": [
    "def write(address,I,data,predict,regression):\n",
    "    f = open(\"data/address/regression/\"+regression+address+\"_\"+str(I)+\".csv\", 'w')\n",
    "    for line in range(len(predict)):\n",
    "        if(line != 0):\n",
    "            f.write(\"\\r\\n\")\n",
    "        f.write(str(data[line])+\",\"+str(predict[line]))\n",
    "    f.close()"
   ]
  },
  {
   "cell_type": "code",
   "execution_count": 9,
   "id": "3866cdde",
   "metadata": {},
   "outputs": [],
   "source": [
    "def write0(address,I,regression):\n",
    "    f = open(\"data/address/regression/\"+regression+address+\"_\"+str(I)+\".csv\", 'w')\n",
    "    f.close()"
   ]
  },
  {
   "cell_type": "code",
   "execution_count": 10,
   "id": "dc5197c4",
   "metadata": {
    "scrolled": false
   },
   "outputs": [],
   "source": [
    "convertOriginal = readConvertOriginal()"
   ]
  },
  {
   "cell_type": "code",
   "execution_count": null,
   "id": "5507d33e",
   "metadata": {},
   "outputs": [],
   "source": [
    "linerRegression()"
   ]
  },
  {
   "cell_type": "code",
   "execution_count": null,
   "id": "feb6116e",
   "metadata": {},
   "outputs": [],
   "source": [
    "svr()"
   ]
  },
  {
   "cell_type": "code",
   "execution_count": null,
   "id": "c7995c9e",
   "metadata": {},
   "outputs": [],
   "source": [
    "bagging()"
   ]
  },
  {
   "cell_type": "code",
   "execution_count": null,
   "id": "166693b7",
   "metadata": {},
   "outputs": [],
   "source": []
  }
 ],
 "metadata": {
  "kernelspec": {
   "display_name": "Python 3 (ipykernel)",
   "language": "python",
   "name": "python3"
  },
  "language_info": {
   "codemirror_mode": {
    "name": "ipython",
    "version": 3
   },
   "file_extension": ".py",
   "mimetype": "text/x-python",
   "name": "python",
   "nbconvert_exporter": "python",
   "pygments_lexer": "ipython3",
   "version": "3.8.12"
  }
 },
 "nbformat": 4,
 "nbformat_minor": 5
}
